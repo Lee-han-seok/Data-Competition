{
 "cells": [
  {
   "cell_type": "code",
   "execution_count": null,
   "metadata": {},
   "outputs": [
    {
     "name": "stdout",
     "output_type": "stream",
     "text": [
      "1\n"
     ]
    }
   ],
   "source": [
    "import sys\n",
    "n = int(input())\n",
    "vpss = []\n",
    "for i in range(n) :\n",
    "    vpss.append(list(input()))\n",
    "print(vpss)"
   ]
  },
  {
   "cell_type": "code",
   "execution_count": null,
   "metadata": {},
   "outputs": [],
   "source": [
    "import sys\n",
    "n = int(input())\n",
    "vpss = []\n",
    "for i in range(n) :\n",
    "    vpss.append(list(input()))\n",
    "print(vpss)"
   ]
  },
  {
   "cell_type": "code",
   "execution_count": 8,
   "metadata": {},
   "outputs": [
    {
     "name": "stdout",
     "output_type": "stream",
     "text": [
      "['YES', 'YES']\n"
     ]
    }
   ],
   "source": [
    "results = []\n",
    "for vps in vpss :\n",
    "    if len(vps) % 2 != 0 :\n",
    "        results.append('NO')\n",
    "    elif vps.count('(') != vps.count(')') :\n",
    "        results.append('NO')\n",
    "    else: \n",
    "        if tmp.count('(') == tmp.count(')') :\n",
    "            results.append('YES') \n",
    "        else :\n",
    "            results.append('NO')\n",
    "            \n",
    "print(results)"
   ]
  },
  {
   "cell_type": "code",
   "execution_count": 7,
   "metadata": {},
   "outputs": [
    {
     "name": "stdout",
     "output_type": "stream",
     "text": [
      "2\n",
      "YES\n",
      "YES\n"
     ]
    }
   ],
   "source": [
    "import sys\n",
    "n = int(input())\n",
    "vpss = []\n",
    "for i in range(n) :\n",
    "    vps = list(input())\n",
    "    if len(vps) % 2 != 0 :\n",
    "        print('NO')\n",
    "    elif vps.count('(') != vps.count(')') :\n",
    "        print('NO')\n",
    "    else: \n",
    "        if vps.count('(') == vps.count(')') :\n",
    "            print('YES') \n",
    "        else :\n",
    "            print('NO')"
   ]
  },
  {
   "cell_type": "code",
   "execution_count": null,
   "metadata": {},
   "outputs": [],
   "source": []
  }
 ],
 "metadata": {
  "kernelspec": {
   "display_name": "tf-gpu",
   "language": "python",
   "name": "tf2.0-gpu"
  },
  "language_info": {
   "codemirror_mode": {
    "name": "ipython",
    "version": 3
   },
   "file_extension": ".py",
   "mimetype": "text/x-python",
   "name": "python",
   "nbconvert_exporter": "python",
   "pygments_lexer": "ipython3",
   "version": "3.7.6"
  }
 },
 "nbformat": 4,
 "nbformat_minor": 4
}
