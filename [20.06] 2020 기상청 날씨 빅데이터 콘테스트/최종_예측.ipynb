{
 "cells": [
  {
   "cell_type": "markdown",
   "metadata": {},
   "source": [
    "# Packages"
   ]
  },
  {
   "cell_type": "code",
   "execution_count": 1,
   "metadata": {
    "scrolled": true
   },
   "outputs": [
    {
     "name": "stdout",
     "output_type": "stream",
     "text": [
      "2.2.0\n"
     ]
    }
   ],
   "source": [
    "import pandas as pd\n",
    "import numpy as np\n",
    "import matplotlib.pyplot as plt\n",
    "import random\n",
    "\n",
    "import tensorflow as tf\n",
    "import tensorflow.keras # Packages# Load Data\n",
    "from tensorflow.keras.layers import Reshape, Flatten, Input, concatenate, Embedding, Conv1D\n",
    "from tensorflow.keras.layers import RNN, LSTM, GRU, Dense, Embedding, Input, BatchNormalization, LeakyReLU, Dropout, ReLU\n",
    "from tensorflow.keras.models import Sequential, Model, load_model, model_from_json\n",
    "from tensorflow.keras import regularizers\n",
    "from tensorflow.keras.constraints import max_norm\n",
    "from tensorflow.keras.optimizers import Adam, RMSprop, Nadam\n",
    "from tensorflow.keras.utils import CustomObjectScope\n",
    "\n",
    "print(tf.__version__)"
   ]
  },
  {
   "cell_type": "code",
   "execution_count": 2,
   "metadata": {},
   "outputs": [],
   "source": [
    "np.random.seed(1998)\n",
    "random.seed(1998)\n",
    "tf.random.set_seed(1998)"
   ]
  },
  {
   "cell_type": "markdown",
   "metadata": {},
   "source": [
    "# Load Data"
   ]
  },
  {
   "cell_type": "code",
   "execution_count": 3,
   "metadata": {},
   "outputs": [
    {
     "name": "stdout",
     "output_type": "stream",
     "text": [
      "(342732, 18)\n",
      "(3539, 17)\n"
     ]
    }
   ],
   "source": [
    "data = pd.read_csv('data/기상병합_data3.csv')\n",
    "testdata = pd.read_csv('data/test_기상병합.csv')\n",
    "\n",
    "print(data.shape)\n",
    "print(testdata.shape)"
   ]
  },
  {
   "cell_type": "markdown",
   "metadata": {},
   "source": [
    "## Preprocessing"
   ]
  },
  {
   "cell_type": "code",
   "execution_count": 4,
   "metadata": {},
   "outputs": [],
   "source": [
    "train = data.drop(['plant_train.mea_ddhr', 'plant_train.plant', 'plant_train.loc', \n",
    "                      'plant_train.cond_loc', 'plant_test.x24h_tma', 'plant_train.x24h_cond_loc',\n",
    "                      'plant_test.x48h_tma', 'plant_train.x48h_cond_loc'], axis = 1)\n",
    "test = testdata.drop(['plant_test.mea_ddhr', 'plant_test.plant', 'plant_test.loc',\n",
    "                      'plant_test.x24h_tma', 'plant_test.x24h_cond_loc',\n",
    "                      'plant_test.x48h_tma', 'plant_test.x48h_cond_loc'], axis = 1)\n",
    "\n",
    "train_con1 = np.array(data.loc[:,'plant_train.plant'])-1\n",
    "train_con2 = np.array(data.loc[:,'plant_train.loc'])-1\n",
    "\n",
    "test_con1 = np.array(testdata.loc[:,'plant_test.plant'])-1\n",
    "test_con2 = np.array(testdata.loc[:,'plant_test.loc'])-1\n",
    "\n",
    "train_label_24 = np.array(data.loc[:,'plant_train.x24h_cond_loc'])\n",
    "train_label_48 = np.array(data.loc[:,'plant_train.x48h_cond_loc'])"
   ]
  },
  {
   "cell_type": "code",
   "execution_count": 5,
   "metadata": {},
   "outputs": [
    {
     "name": "stdout",
     "output_type": "stream",
     "text": [
      "(342732, 2)\n",
      "(342732, 3)\n",
      "(3539, 2)\n",
      "(3539, 3)\n"
     ]
    }
   ],
   "source": [
    "train_con1 = tf.keras.utils.to_categorical(train_con1, num_classes=2)\n",
    "train_con2 = tf.keras.utils.to_categorical(train_con2, num_classes=3)\n",
    "\n",
    "test_con1 = tf.keras.utils.to_categorical(test_con1, num_classes=2)\n",
    "test_con2 = tf.keras.utils.to_categorical(test_con2, num_classes=3)\n",
    "\n",
    "print(train_con1.shape)\n",
    "print(train_con2.shape)\n",
    "print(test_con1.shape)\n",
    "print(test_con2.shape)"
   ]
  },
  {
   "cell_type": "code",
   "execution_count": 6,
   "metadata": {
    "scrolled": true
   },
   "outputs": [
    {
     "name": "stdout",
     "output_type": "stream",
     "text": [
      "(342732, 1, 10)\n",
      "(3539, 1, 10)\n",
      "(342732, 1, 2)\n",
      "(342732, 1, 3)\n",
      "(3539, 1, 2)\n",
      "(3539, 1, 3)\n"
     ]
    }
   ],
   "source": [
    "train = np.reshape(np.array(train), [train.shape[0], 1, train.shape[1]])\n",
    "test = np.reshape(np.array(test), [test.shape[0], 1, test.shape[1]])\n",
    "\n",
    "train_con1 = np.reshape(train_con1, [train_con1.shape[0], 1, train_con1.shape[1]])\n",
    "train_con2 = np.reshape(train_con2, [train_con2.shape[0], 1, train_con2.shape[1]])\n",
    "\n",
    "test_con1 = np.reshape(test_con1, [test_con1.shape[0], 1, test_con1.shape[1]])\n",
    "test_con2 = np.reshape(test_con2, [test_con2.shape[0], 1, test_con2.shape[1]])\n",
    "\n",
    "print(train.shape)\n",
    "print(test.shape)\n",
    "print(train_con1.shape)\n",
    "print(train_con2.shape)\n",
    "print(test_con1.shape)\n",
    "print(test_con2.shape)"
   ]
  },
  {
   "cell_type": "markdown",
   "metadata": {},
   "source": [
    "# Modeling"
   ]
  },
  {
   "cell_type": "markdown",
   "metadata": {},
   "source": [
    "## Load Model"
   ]
  },
  {
   "cell_type": "code",
   "execution_count": 7,
   "metadata": {},
   "outputs": [],
   "source": [
    "json_file = open(\"Model/model.json\", \"r\")\n",
    "loaded_model_json = json_file.read() \n",
    "json_file.close()\n",
    "model = model_from_json(loaded_model_json)"
   ]
  },
  {
   "cell_type": "markdown",
   "metadata": {},
   "source": [
    "## Model Summary"
   ]
  },
  {
   "cell_type": "code",
   "execution_count": 8,
   "metadata": {
    "scrolled": true
   },
   "outputs": [
    {
     "name": "stdout",
     "output_type": "stream",
     "text": [
      "Model: \"model\"\n",
      "__________________________________________________________________________________________________\n",
      "Layer (type)                    Output Shape         Param #     Connected to                     \n",
      "==================================================================================================\n",
      "X_data (InputLayer)             [(None, None, 10)]   0                                            \n",
      "__________________________________________________________________________________________________\n",
      "con1 (InputLayer)               [(None, None, 2)]    0                                            \n",
      "__________________________________________________________________________________________________\n",
      "con2 (InputLayer)               [(None, None, 3)]    0                                            \n",
      "__________________________________________________________________________________________________\n",
      "concatenate (Concatenate)       (None, None, 15)     0           X_data[0][0]                     \n",
      "                                                                 con1[0][0]                       \n",
      "                                                                 con2[0][0]                       \n",
      "__________________________________________________________________________________________________\n",
      "lstm (LSTM)                     (None, None, 512)    1081344     concatenate[0][0]                \n",
      "__________________________________________________________________________________________________\n",
      "lstm_1 (LSTM)                   (None, None, 256)    787456      lstm[0][0]                       \n",
      "__________________________________________________________________________________________________\n",
      "lstm_2 (LSTM)                   (None, 128)          197120      lstm_1[0][0]                     \n",
      "__________________________________________________________________________________________________\n",
      "dense (Dense)                   (None, 64)           8256        lstm_2[0][0]                     \n",
      "__________________________________________________________________________________________________\n",
      "24hour (Dense)                  (None, 1)            65          dense[0][0]                      \n",
      "__________________________________________________________________________________________________\n",
      "48hour (Dense)                  (None, 1)            65          dense[0][0]                      \n",
      "==================================================================================================\n",
      "Total params: 2,074,306\n",
      "Trainable params: 2,074,306\n",
      "Non-trainable params: 0\n",
      "__________________________________________________________________________________________________\n"
     ]
    },
    {
     "data": {
      "image/png": "[encoded data removed]",
      "text/plain": [
       "<IPython.core.display.Image object>"
      ]
     },
     "execution_count": 8,
     "metadata": {},
     "output_type": "execute_result"
    }
   ],
   "source": [
    "model.summary()\n",
    "tf.keras.utils.plot_model(model,show_shapes=True, show_layer_names=False)"
   ]
  },
  {
   "cell_type": "markdown",
   "metadata": {},
   "source": [
    "## Fitting"
   ]
  },
  {
   "cell_type": "code",
   "execution_count": 9,
   "metadata": {},
   "outputs": [],
   "source": [
    "model.compile(optimizer='adam', loss = 'binary_crossentropy', metrics = ['accuracy'])"
   ]
  },
  {
   "cell_type": "code",
   "execution_count": 10,
   "metadata": {
    "scrolled": true
   },
   "outputs": [
    {
     "name": "stdout",
     "output_type": "stream",
     "text": [
      "Epoch 1/30\n",
      "2678/2678 [==============================] - 16s 6ms/step - loss: 0.0621 - 24hour_loss: 0.0284 - 48hour_loss: 0.0337 - 24hour_accuracy: 0.9943 - 48hour_accuracy: 0.9943\n",
      "Epoch 2/30\n",
      "2678/2678 [==============================] - 16s 6ms/step - loss: 0.0538 - 24hour_loss: 0.0233 - 48hour_loss: 0.0305 - 24hour_accuracy: 0.9944 - 48hour_accuracy: 0.9943\n",
      "Epoch 3/30\n",
      "2678/2678 [==============================] - 16s 6ms/step - loss: 0.0519 - 24hour_loss: 0.0222 - 48hour_loss: 0.0297 - 24hour_accuracy: 0.9946 - 48hour_accuracy: 0.9943\n",
      "Epoch 4/30\n",
      "2678/2678 [==============================] - 17s 6ms/step - loss: 0.0503 - 24hour_loss: 0.0216 - 48hour_loss: 0.0288 - 24hour_accuracy: 0.9947 - 48hour_accuracy: 0.9943\n",
      "Epoch 5/30\n",
      "2678/2678 [==============================] - 16s 6ms/step - loss: 0.0489 - 24hour_loss: 0.0207 - 48hour_loss: 0.0281 - 24hour_accuracy: 0.9949 - 48hour_accuracy: 0.9943\n",
      "Epoch 6/30\n",
      "2678/2678 [==============================] - 16s 6ms/step - loss: 0.0481 - 24hour_loss: 0.0205 - 48hour_loss: 0.0276 - 24hour_accuracy: 0.9949 - 48hour_accuracy: 0.9943\n",
      "Epoch 7/30\n",
      "2678/2678 [==============================] - 16s 6ms/step - loss: 0.0471 - 24hour_loss: 0.0199 - 48hour_loss: 0.0272 - 24hour_accuracy: 0.9949 - 48hour_accuracy: 0.9944\n",
      "Epoch 8/30\n",
      "2678/2678 [==============================] - 16s 6ms/step - loss: 0.0466 - 24hour_loss: 0.0196 - 48hour_loss: 0.0269 - 24hour_accuracy: 0.9950 - 48hour_accuracy: 0.9944\n",
      "Epoch 9/30\n",
      "2678/2678 [==============================] - 16s 6ms/step - loss: 0.0460 - 24hour_loss: 0.0194 - 48hour_loss: 0.0266 - 24hour_accuracy: 0.9951 - 48hour_accuracy: 0.9944\n",
      "Epoch 10/30\n",
      "2678/2678 [==============================] - 16s 6ms/step - loss: 0.0455 - 24hour_loss: 0.0193 - 48hour_loss: 0.0262 - 24hour_accuracy: 0.9950 - 48hour_accuracy: 0.9944\n",
      "Epoch 11/30\n",
      "2678/2678 [==============================] - 16s 6ms/step - loss: 0.0451 - 24hour_loss: 0.0191 - 48hour_loss: 0.0261 - 24hour_accuracy: 0.9951 - 48hour_accuracy: 0.9944\n",
      "Epoch 12/30\n",
      "2678/2678 [==============================] - 16s 6ms/step - loss: 0.0443 - 24hour_loss: 0.0186 - 48hour_loss: 0.0258 - 24hour_accuracy: 0.9951 - 48hour_accuracy: 0.9944\n",
      "Epoch 13/30\n",
      "2678/2678 [==============================] - 16s 6ms/step - loss: 0.0439 - 24hour_loss: 0.0184 - 48hour_loss: 0.0254 - 24hour_accuracy: 0.9951 - 48hour_accuracy: 0.9944\n",
      "Epoch 14/30\n",
      "2678/2678 [==============================] - 16s 6ms/step - loss: 0.0430 - 24hour_loss: 0.0181 - 48hour_loss: 0.0249 - 24hour_accuracy: 0.9953 - 48hour_accuracy: 0.9945\n",
      "Epoch 15/30\n",
      "2678/2678 [==============================] - 16s 6ms/step - loss: 0.0424 - 24hour_loss: 0.0178 - 48hour_loss: 0.0246 - 24hour_accuracy: 0.9952 - 48hour_accuracy: 0.9945\n",
      "Epoch 16/30\n",
      "2678/2678 [==============================] - 16s 6ms/step - loss: 0.0415 - 24hour_loss: 0.0172 - 48hour_loss: 0.0242 - 24hour_accuracy: 0.9953 - 48hour_accuracy: 0.9945\n",
      "Epoch 17/30\n",
      "2678/2678 [==============================] - 16s 6ms/step - loss: 0.0407 - 24hour_loss: 0.0170 - 48hour_loss: 0.0237 - 24hour_accuracy: 0.9954 - 48hour_accuracy: 0.9945\n",
      "Epoch 18/30\n",
      "2678/2678 [==============================] - 16s 6ms/step - loss: 0.0401 - 24hour_loss: 0.0167 - 48hour_loss: 0.0235 - 24hour_accuracy: 0.9954 - 48hour_accuracy: 0.9945\n",
      "Epoch 19/30\n",
      "2678/2678 [==============================] - 17s 6ms/step - loss: 0.0399 - 24hour_loss: 0.0166 - 48hour_loss: 0.0233 - 24hour_accuracy: 0.9953 - 48hour_accuracy: 0.9946\n",
      "Epoch 20/30\n",
      "2678/2678 [==============================] - 17s 6ms/step - loss: 0.0387 - 24hour_loss: 0.0160 - 48hour_loss: 0.0227 - 24hour_accuracy: 0.9955 - 48hour_accuracy: 0.9947\n",
      "Epoch 21/30\n",
      "2678/2678 [==============================] - 16s 6ms/step - loss: 0.0381 - 24hour_loss: 0.0157 - 48hour_loss: 0.0224 - 24hour_accuracy: 0.9956 - 48hour_accuracy: 0.9947\n",
      "Epoch 22/30\n",
      "2678/2678 [==============================] - 16s 6ms/step - loss: 0.0375 - 24hour_loss: 0.0153 - 48hour_loss: 0.0222 - 24hour_accuracy: 0.9957 - 48hour_accuracy: 0.9948\n",
      "Epoch 23/30\n",
      "2678/2678 [==============================] - 17s 6ms/step - loss: 0.0369 - 24hour_loss: 0.0151 - 48hour_loss: 0.0217 - 24hour_accuracy: 0.9957 - 48hour_accuracy: 0.9948\n",
      "Epoch 24/30\n",
      "2678/2678 [==============================] - 16s 6ms/step - loss: 0.0358 - 24hour_loss: 0.0146 - 48hour_loss: 0.0212 - 24hour_accuracy: 0.9957 - 48hour_accuracy: 0.9949\n",
      "Epoch 25/30\n",
      "2678/2678 [==============================] - 16s 6ms/step - loss: 0.0356 - 24hour_loss: 0.0145 - 48hour_loss: 0.0211 - 24hour_accuracy: 0.9958 - 48hour_accuracy: 0.9949\n",
      "Epoch 26/30\n",
      "2678/2678 [==============================] - 17s 6ms/step - loss: 0.0349 - 24hour_loss: 0.0141 - 48hour_loss: 0.0208 - 24hour_accuracy: 0.9959 - 48hour_accuracy: 0.9949\n",
      "Epoch 27/30\n",
      "2678/2678 [==============================] - 16s 6ms/step - loss: 0.0345 - 24hour_loss: 0.0139 - 48hour_loss: 0.0206 - 24hour_accuracy: 0.9959 - 48hour_accuracy: 0.9950\n",
      "Epoch 28/30\n",
      "2678/2678 [==============================] - 16s 6ms/step - loss: 0.0338 - 24hour_loss: 0.0136 - 48hour_loss: 0.0202 - 24hour_accuracy: 0.9959 - 48hour_accuracy: 0.9949\n",
      "Epoch 29/30\n",
      "2678/2678 [==============================] - 16s 6ms/step - loss: 0.0329 - 24hour_loss: 0.0133 - 48hour_loss: 0.0197 - 24hour_accuracy: 0.9961 - 48hour_accuracy: 0.9951\n",
      "Epoch 30/30\n",
      "2678/2678 [==============================] - 16s 6ms/step - loss: 0.0325 - 24hour_loss: 0.0131 - 48hour_loss: 0.0194 - 24hour_accuracy: 0.9961 - 48hour_accuracy: 0.9951\n"
     ]
    }
   ],
   "source": [
    "history = model.fit([train, train_con1, train_con2], [train_label_24, train_label_48],\n",
    "                    epochs = 30, \n",
    "                    batch_size = 128)"
   ]
  },
  {
   "cell_type": "markdown",
   "metadata": {},
   "source": [
    "### Ending Music"
   ]
  },
  {
   "cell_type": "code",
   "execution_count": 11,
   "metadata": {},
   "outputs": [],
   "source": [
    "import winsound \n",
    "def main(): # 도,레,미,파,솔,라,시 Hz\n",
    "    so1 = {'do':261,'re':293,'mi':329,'pa':349,'sol':391,'ra':440,'si':493} \n",
    "    mel = ['do','mi','mi', 'mi','sol','sol', 're','pa','pa','ra','si','si'] \n",
    "    dur = [4,4,2, 4,4,2, 4,4,2, 4,4,2]\n",
    "    mel2 = ['sol','do','ra','pa','mi','do','re']\n",
    "    dur2 = [1,1,1,1,1,1,1]\n",
    "    music = zip(mel,dur)\n",
    "    music2 = zip(mel2,dur2) \n",
    "    for melody,duration in music: winsound.Beep(so1[melody],1000//duration)\n",
    "    for melody,duration in music2: winsound.Beep(so1[melody],1000//duration) \n",
    "        \n",
    "        \n",
    "if __name__ == '__main__': main()"
   ]
  },
  {
   "cell_type": "markdown",
   "metadata": {},
   "source": [
    "# Make Submission"
   ]
  },
  {
   "cell_type": "code",
   "execution_count": 12,
   "metadata": {},
   "outputs": [],
   "source": [
    "pred = model.predict([test, test_con1, test_con2])\n",
    "\n",
    "pred_cl1 = pred[0] >= 0.5\n",
    "pred_cl1 = pred_cl1.astype(int)\n",
    "\n",
    "pred_cl2 = pred[1] >= 0.5\n",
    "pred_cl2 = pred_cl1.astype(int)\n",
    "\n",
    "a=pd.DataFrame()\n",
    "\n",
    "a['MEA_DDHR'] = testdata['plant_test.mea_ddhr']\n",
    "a['PLANT'] = testdata['plant_test.plant']\n",
    "a['LOC'] = testdata['plant_test.loc']\n",
    "\n",
    "a['X24H_TMA'] = testdata['plant_test.x24h_tma']\n",
    "a['X24H_COND_LOC'] = pred_cl1\n",
    "a['X24H_COND_LOC_PROB'] = pred[0]\n",
    "\n",
    "a['X48H_TMA'] = testdata['plant_test.x24h_tma']\n",
    "a['X48H_COND_LOC'] = pred_cl2\n",
    "a['X48H_COND_LOC_PROB'] = pred[1]\n",
    "\n",
    "a.to_csv('203608.csv', index = False)"
   ]
  },
  {
   "cell_type": "markdown",
   "metadata": {},
   "source": [
    "# End"
   ]
  }
 ],
 "metadata": {
  "kernelspec": {
   "display_name": "Python 3",
   "language": "python",
   "name": "python3"
  },
  "language_info": {
   "codemirror_mode": {
    "name": "ipython",
    "version": 3
   },
   "file_extension": ".py",
   "mimetype": "text/x-python",
   "name": "python",
   "nbconvert_exporter": "python",
   "pygments_lexer": "ipython3",
   "version": "3.7.4"
  }
 },
 "nbformat": 4,
 "nbformat_minor": 2
}
